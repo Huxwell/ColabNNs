{
  "nbformat": 4,
  "nbformat_minor": 0,
  "metadata": {
    "colab": {
      "provenance": [],
      "mount_file_id": "1RAiIoA4fSYqKdHxX46T8zCXtuKajEOER",
      "authorship_tag": "ABX9TyPPKvsr1Sr2jFdUDuZRFYBr",
      "include_colab_link": true
    },
    "kernelspec": {
      "name": "python3",
      "display_name": "Python 3"
    },
    "language_info": {
      "name": "python"
    },
    "gpuClass": "standard"
  },
  "cells": [
    {
      "cell_type": "markdown",
      "metadata": {
        "id": "view-in-github",
        "colab_type": "text"
      },
      "source": [
        "<a href=\"https://colab.research.google.com/github/Huxwell/ColabNNs/blob/main/cats_n_dogs_generate_multicategory_dataset_pynb.ipynb\" target=\"_parent\"><img src=\"https://colab.research.google.com/assets/colab-badge.svg\" alt=\"Open In Colab\"/></a>"
      ]
    },
    {
      "cell_type": "markdown",
      "source": [
        "## Just viewing my options\n",
        "What was done:\n",
        "*   8 variants of concat \n",
        "*   all images resized to 224x224\n",
        "\n",
        "\n",
        "\n"
      ],
      "metadata": {
        "id": "rMaX6S74HXHD"
      }
    },
    {
      "cell_type": "code",
      "execution_count": null,
      "metadata": {
        "id": "s9rdrEeIbICl"
      },
      "outputs": [],
      "source": [
        "import numpy as np\n",
        "import matplotlib.pyplot as plt\n",
        "import os\n",
        "import zipfile\n",
        "import glob\n",
        "from PIL import Image\n",
        "import random # do random.seed(13) before every shuffle. order of shuffle() execution changes results order."
      ]
    },
    {
      "cell_type": "code",
      "source": [
        "dataset_dir = '/content/drive/MyDrive/cats_n_dogs_unsure/dogs-vs-cats-redux-kernels-edition'\n",
        "os.listdir(dataset_dir)"
      ],
      "metadata": {
        "id": "lSga2d5abUSF"
      },
      "execution_count": null,
      "outputs": []
    },
    {
      "cell_type": "code",
      "source": [
        "os.makedirs('local_data/', exist_ok=True)\n",
        "train_dir = 'local_data/train'"
      ],
      "metadata": {
        "id": "rVma9140hRSx"
      },
      "execution_count": null,
      "outputs": []
    },
    {
      "cell_type": "code",
      "source": [
        "!pwd\n",
        "!ls /content/local_data/train\n"
      ],
      "metadata": {
        "id": "EVY9Mlp-hbJj"
      },
      "execution_count": null,
      "outputs": []
    },
    {
      "cell_type": "code",
      "source": [
        "with zipfile.ZipFile(os.path.join(dataset_dir, 'train.zip')) as train_zip:\n",
        "    train_zip.extractall('local_data')"
      ],
      "metadata": {
        "id": "n83YpV5LbVvZ"
      },
      "execution_count": null,
      "outputs": []
    },
    {
      "cell_type": "code",
      "source": [
        "os.listdir(train_dir)[:5]"
      ],
      "metadata": {
        "id": "XiwerW2UbY3d"
      },
      "execution_count": null,
      "outputs": []
    },
    {
      "cell_type": "code",
      "source": [
        "cats_list = sorted(glob.glob(os.path.join(train_dir,'cat*.jpg')))\n",
        "dogs_list = sorted(glob.glob(os.path.join(train_dir,'dog*.jpg')))\n",
        "print(len(cats_list))\n",
        "print(len(dogs_list))\n",
        "random.seed(13)\n",
        "random.shuffle(cats_list)\n",
        "random.seed(13) #multiple seed() executions are on purpose.\n",
        "random.shuffle(dogs_list)\n",
        "print(cats_list[:3])\n",
        "print(dogs_list[:3])\n",
        "# some sanity check to make sure no uncontrolled randomness beyond this point\n",
        "assert cats_list[2] == 'local_data/train/cat.801.jpg'\n",
        "assert dogs_list[2] == 'local_data/train/dog.801.jpg'\n",
        "assert len(cats_list) == len(dogs_list)\n"
      ],
      "metadata": {
        "id": "l0Fd8HBpbaRR"
      },
      "execution_count": null,
      "outputs": []
    },
    {
      "cell_type": "markdown",
      "source": [
        "## This time I have to shuffle cats list and dogs list separately\n",
        "So that each cat photo can be matched with a dog photo."
      ],
      "metadata": {
        "id": "W1rhb0vus7PA"
      }
    },
    {
      "cell_type": "code",
      "source": [
        "test_cats = cats_list[10000:]\n",
        "test_dogs = dogs_list[10000:]\n",
        "print(len(test_cats))\n",
        "print(len(test_dogs))\n",
        "\n",
        "random.seed(13)\n",
        "random.shuffle(test_cats)\n",
        "\n",
        "random.seed(1313) # you get the same indeces if you do seed(13) again !!! order doesn't depend on content !!!\n",
        "random.shuffle(test_dogs)\n",
        "\n",
        "print(\"test_cats\",test_cats[:9])\n",
        "assert test_cats[0] == 'local_data/train/cat.4660.jpg'\n",
        "\n",
        "print(\"test_dogs\",test_dogs[:9])\n",
        "assert test_dogs[0] == 'local_data/train/dog.1383.jpg'"
      ],
      "metadata": {
        "id": "YbU7_Nwdg3oT"
      },
      "execution_count": null,
      "outputs": []
    },
    {
      "cell_type": "code",
      "source": [
        "# test_list = cats_list[10000:] + dogs_list[10000:]\n",
        "# print(len(test_list))\n",
        "\n",
        "# random.seed(13)\n",
        "# random.shuffle(test_list)\n",
        "# print(\"test\",test_list[:9])\n",
        "# assert test_list[4] == 'local_data/train/dog.6485.jpg'"
      ],
      "metadata": {
        "id": "zCz42OAhtFNS"
      },
      "execution_count": null,
      "outputs": []
    },
    {
      "cell_type": "markdown",
      "source": [
        "# finished here: todo: actual generation"
      ],
      "metadata": {
        "id": "j4haZH3mt2ay"
      }
    },
    {
      "cell_type": "code",
      "source": [
        "np.random.seed(1313131313)\n",
        "random_idx = np.random.randint(1,len(test_cats),size=10)\n",
        "print(random_idx)\n",
        "fig = plt.figure(figsize=(20., 10.))\n",
        "\n",
        "for i, img_idx in enumerate(random_idx):\n",
        "    ax = fig.add_subplot(2,5,i+1)\n",
        "    img = Image.open(test_cats[img_idx])\n",
        "    plt.imshow(img)\n",
        "    i+=1\n",
        "\n",
        "plt.axis('off')\n",
        "plt.show()"
      ],
      "metadata": {
        "id": "kPJdcRe0hfC1"
      },
      "execution_count": null,
      "outputs": []
    },
    {
      "cell_type": "code",
      "source": [
        "np.random.seed(1313131313)\n",
        "random_idx = np.random.randint(1,len(test_dogs),size=10)\n",
        "print(random_idx)\n",
        "fig = plt.figure(figsize=(20., 10.))\n",
        "\n",
        "for i, img_idx in enumerate(random_idx):\n",
        "    ax = fig.add_subplot(2,5,i+1)\n",
        "    img = Image.open(test_dogs[img_idx])\n",
        "    plt.imshow(img)\n",
        "    i+=1\n",
        "\n",
        "plt.axis('off')\n",
        "plt.show()"
      ],
      "metadata": {
        "id": "LDNEpqp83Q7y"
      },
      "execution_count": null,
      "outputs": []
    },
    {
      "cell_type": "code",
      "source": [
        "def crop_center(img, cropx, cropy):\n",
        "    y, x, *_ = img.shape\n",
        "    startx = x // 2 - (cropx // 2)\n",
        "    starty = y // 2 - (cropy // 2)    \n",
        "    return img[starty:starty + cropy, startx:startx + cropx, ...]\n",
        "def concat_variants(img1, img2, variant=0): #not using match case, because this is python 3.8 not 3.10\n",
        "    if variant == 0:\n",
        "      return np.concatenate((img1,img2), axis=0)\n",
        "    elif variant == 1:\n",
        "      return np.concatenate((img1,img2), axis=1)\n",
        "    elif variant == 2:\n",
        "      return np.concatenate((img2,img1), axis=0)\n",
        "    elif variant == 3:\n",
        "      return np.concatenate((img2,img1), axis=1)\n",
        "    elif variant == 4:\n",
        "      return np.concatenate((img2,img1), axis=0)\n",
        "    elif variant == 5:\n",
        "      return np.concatenate((img2,img1), axis=1)\n",
        "    elif variant == 6:\n",
        "      return np.concatenate((img1,img2), axis=0)\n",
        "    elif variant == 7:\n",
        "      return np.concatenate((img1,img2), axis=1)\n"
      ],
      "metadata": {
        "id": "aZuc7MJI4ZXJ"
      },
      "execution_count": null,
      "outputs": []
    },
    {
      "cell_type": "code",
      "source": [
        "np.random.seed(13131313)\n",
        "random_idx = np.random.randint(1,len(test_dogs),size=8)\n",
        "print(random_idx)\n",
        "fig = plt.figure(figsize=(20., 10.))\n",
        "\n",
        "for i, img_idx in enumerate(random_idx):\n",
        "    ax = fig.add_subplot(2,4,i+1)\n",
        "    img = Image.open(test_dogs[img_idx]).resize((224,224))\n",
        "    img2 = Image.open(test_cats[img_idx]).resize((224,224))\n",
        "    img_concat = concat_variants(img, img2, i%8)\n",
        "    plt.imshow(crop_center(img_concat, 224,224))\n",
        "    i+=1\n",
        "\n",
        "plt.axis('off')\n",
        "plt.show()"
      ],
      "metadata": {
        "id": "ERJSxNtK35-M"
      },
      "execution_count": null,
      "outputs": []
    },
    {
      "cell_type": "code",
      "source": [
        "!rm -rvf generated/"
      ],
      "metadata": {
        "id": "RDUaFYNw_6Ap"
      },
      "execution_count": null,
      "outputs": []
    },
    {
      "cell_type": "code",
      "source": [
        "os.makedirs('generated/', exist_ok=True)\n",
        "\n",
        "\n",
        "for idx, (img, img2) in enumerate(zip(test_dogs, test_cats)):\n",
        "    print(img,img2)\n",
        "    dog_path = img\n",
        "    img = Image.open(img).resize((224,224))\n",
        "    img2 = Image.open(img2).resize((224,224))\n",
        "    img_concat = concat_variants(img, img2, i%8)\n",
        "    img_concat = crop_center(img_concat, 224,224)\n",
        "    \n",
        "    outpath = f\"cat_dog_50_50_8concats_{idx}_224x224resize.jpg\"\n",
        "    plt.imsave(f\"generated/{outpath}\", img_concat)"
      ],
      "metadata": {
        "id": "wrSHXlP4_8SO"
      },
      "execution_count": null,
      "outputs": []
    },
    {
      "cell_type": "code",
      "source": [
        "!ls generated/"
      ],
      "metadata": {
        "id": "6XYHUs8fruHM"
      },
      "execution_count": null,
      "outputs": []
    },
    {
      "cell_type": "code",
      "source": [
        "!rm -rv /content/drive/MyDrive/cat_dogs_8_contats_50_50_from_test\n",
        "!mkdir /content/drive/MyDrive/cat_dogs_8_contats_50_50_from_test\n",
        "!cp -rv generated/* /content/drive/MyDrive/cat_dogs_8_contats_50_50_from_test/\n",
        "!rm -r generated"
      ],
      "metadata": {
        "id": "Dzux9Us7_-2n"
      },
      "execution_count": null,
      "outputs": []
    },
    {
      "cell_type": "code",
      "source": [
        "!ls /content/drive/MyDrive/cat_dogs_8_contats_50_50_from_test | wc -l"
      ],
      "metadata": {
        "id": "vgc-2OtVAahV"
      },
      "execution_count": null,
      "outputs": []
    },
    {
      "cell_type": "code",
      "source": [
        "!zip -rj cat_dogs_8_contats_50_50_from_test_fix.zip /content/drive/MyDrive/cat_dogs_8_contats_50_50_from_test "
      ],
      "metadata": {
        "id": "asWEwBd6AcgQ"
      },
      "execution_count": null,
      "outputs": []
    },
    {
      "cell_type": "code",
      "source": [
        "!cp -rv cat_dogs_8_contats_50_50_from_test_fix.zip /content/drive/MyDrive/cat_dogs_8_contats_50_50_from_test.zip"
      ],
      "metadata": {
        "id": "tTV067s_AjLs"
      },
      "execution_count": null,
      "outputs": []
    },
    {
      "cell_type": "code",
      "source": [
        "!rm -rv /content/drive/MyDrive/cat_dogs_8_contats_50_50_from_test "
      ],
      "metadata": {
        "id": "qc3x7IJJAnAw"
      },
      "execution_count": null,
      "outputs": []
    }
  ]
}