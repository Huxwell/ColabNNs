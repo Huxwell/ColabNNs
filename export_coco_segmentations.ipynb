{
  "cells": [
    {
      "cell_type": "markdown",
      "metadata": {
        "id": "view-in-github",
        "colab_type": "text"
      },
      "source": [
        "<a href=\"https://colab.research.google.com/github/Huxwell/ColabNNs/blob/main/export_coco_segmentations.ipynb\" target=\"_parent\"><img src=\"https://colab.research.google.com/assets/colab-badge.svg\" alt=\"Open In Colab\"/></a>"
      ]
    },
    {
      "cell_type": "markdown",
      "source": [
        "This code is based on : https://stackoverflow.com/users/14277626/eric-hofesmann , https://stackoverflow.com/questions/69845308/how-to-extract-foreground-objects-from-coco-dataset-or-open-images-v6-dataset"
      ],
      "metadata": {
        "id": "uZ4KsEfzsphL"
      }
    },
    {
      "cell_type": "code",
      "source": [
        "from google.colab import drive\n",
        "drive.mount('/content/drive')"
      ],
      "metadata": {
        "id": "erdcalLmpeSo"
      },
      "execution_count": null,
      "outputs": []
    },
    {
      "cell_type": "code",
      "source": [
        "!pip install fiftyone"
      ],
      "metadata": {
        "id": "3M-gA5V_eNd6"
      },
      "execution_count": null,
      "outputs": []
    },
    {
      "cell_type": "markdown",
      "source": [
        "# Visualisation\n",
        "\n",
        "Not really usefull for us, but nice visualisation. It runs in a colab cell - I have zero idea how they got it working there!\n",
        "\n",
        "You don't have to run it.\n"
      ],
      "metadata": {
        "id": "UvbzMT4xsTwe"
      }
    },
    {
      "cell_type": "markdown",
      "source": [],
      "metadata": {
        "id": "SxMnrOmKl1qy"
      }
    },
    {
      "cell_type": "code",
      "source": [
        "import fiftyone as fo\n",
        "import fiftyone.zoo as foz\n",
        "\n",
        "#\n",
        "# Only the required images will be downloaded (if necessary).\n",
        "# By default, only detections are loaded\n",
        "#\n",
        "\n",
        "dataset = foz.load_zoo_dataset(\n",
        "    \"coco-2017\",\n",
        "    splits=[\"validation\",\"train\"],\n",
        "    classes=[\"cat\", \"dog\"],\n",
        "    label_types=[\"segmentations\"],\n",
        "    max_samples=50,\n",
        ")\n",
        "\n",
        "# Visualize the dataset in the FiftyOne App\n",
        "session = fo.launch_app(dataset)\n",
        "\n",
        "\n",
        "export_dir = \"/content/fiftyone-dataset-cats-dogs\"\n",
        "\n",
        "# The dataset or view to export\n",
        "dataset_or_view = dataset\n",
        "\n",
        "# Export the dataset without copying the media files\n",
        "dataset_or_view.export(\n",
        "    export_dir=export_dir,\n",
        "    dataset_type=fo.types.FiftyOneDataset,\n",
        "    export_media=True,\n",
        ")"
      ],
      "metadata": {
        "id": "kx1vTX7VdxsN"
      },
      "execution_count": null,
      "outputs": []
    },
    {
      "cell_type": "markdown",
      "source": [
        "# Exports - the real, interesting code"
      ],
      "metadata": {
        "id": "FvWUMl7Dr8VJ"
      }
    },
    {
      "cell_type": "code",
      "source": [
        "import os\n",
        "\n",
        "import cv2\n",
        "import numpy as np\n",
        "\n",
        "def extract_classwise_instances(samples, output_dir, label_field, ext=\".png\"):\n",
        "    print(\"Extracting object instances...\")\n",
        "    i = 0\n",
        "    for sample in samples.iter_samples(progress=True):\n",
        "        img = cv2.imread(sample.filepath)\n",
        "        img_h,img_w,c = img.shape\n",
        "        for det in sample[label_field].detections:\n",
        "            i+=1\n",
        "            if i % 10 == 0:\n",
        "              print(i)\n",
        "            mask = det.mask\n",
        "            [x,y,w,h] = det.bounding_box\n",
        "            x = int(x * img_w)\n",
        "            y = int(y * img_h)\n",
        "            h, w = mask.shape\n",
        "            mask_img = img[y:y+h, x:x+w, :] \n",
        "            alpha = mask.astype(np.uint8)*255\n",
        "            alpha = np.expand_dims(alpha, 2)\n",
        "            mask_img = np.concatenate((mask_img, alpha), axis=2)\n",
        "    \n",
        "            label = det.label\n",
        "            label_dir = os.path.join(output_dir, label)\n",
        "            if not os.path.exists(label_dir):\n",
        "                os.mkdir(label_dir)\n",
        "            output_filepath = os.path.join(label_dir, det.id+ext)\n",
        "            cv2.imwrite(output_filepath, mask_img)\n",
        "\n",
        "import fiftyone as fo\n",
        "import fiftyone.zoo as foz\n",
        "from fiftyone import ViewField as F\n",
        "\n",
        "dataset_name = \"coco-image-example\"\n",
        "if dataset_name in fo.list_datasets():\n",
        "    fo.delete_dataset(dataset_name)\n",
        "\n",
        "label_field = \"ground_truth\"\n",
        "classes = [\"cat\", \"dog\"]\n",
        "\n",
        "dataset = foz.load_zoo_dataset(\n",
        "    \"coco-2017\",\n",
        "    splits=[\"validation\"],\n",
        "    label_types=[\"segmentations\"],\n",
        "    classes=classes,\n",
        "    # max_samples=90\n",
        "    label_field=label_field,\n",
        "    dataset_name=dataset_name,\n",
        ")\n",
        "\n",
        "view = dataset.filter_labels(label_field, F(\"label\").is_in(classes))\n",
        "\n",
        "output_dir = \"/content/segmentation_from_coco_2017/val\"\n",
        "os.makedirs(output_dir, exist_ok=True)\n",
        "\n",
        "extract_classwise_instances(view, output_dir, label_field)"
      ],
      "metadata": {
        "id": "v-Pd0mCikXkv"
      },
      "execution_count": null,
      "outputs": []
    },
    {
      "cell_type": "code",
      "source": [
        "dataset_name = \"coco-dogs-cats-segmentation-train\"\n",
        "\n",
        "\n",
        "dataset = foz.load_zoo_dataset(\n",
        "    \"coco-2017\",\n",
        "    splits=[\"train\"],\n",
        "    label_types=[\"segmentations\"],\n",
        "    classes=classes,\n",
        "    # max_samples=90\n",
        "    label_field=label_field,\n",
        "    dataset_name=dataset_name,\n",
        ")\n",
        "\n",
        "view = dataset.filter_labels(label_field, F(\"label\").is_in(classes))\n",
        "\n",
        "output_dir = \"/content/segmentation_from_coco_2017/train\"\n",
        "os.makedirs(output_dir, exist_ok=True)\n",
        "\n",
        "extract_classwise_instances(view, output_dir, label_field)"
      ],
      "metadata": {
        "id": "ISxC9DW7pDvn"
      },
      "execution_count": null,
      "outputs": []
    },
    {
      "cell_type": "code",
      "source": [
        "!ls /content/segmentation_from_coco_2017/val/dog | wc -l \n",
        "!ls /content/segmentation_from_coco_2017/val/cat | wc -l \n",
        "!ls /content/segmentation_from_coco_2017/train/dog | wc -l \n",
        "!ls /content/segmentation_from_coco_2017/train/cat | wc -l "
      ],
      "metadata": {
        "id": "ykisIILJmZFy"
      },
      "execution_count": null,
      "outputs": []
    },
    {
      "cell_type": "code",
      "source": [
        "# !cp -r /content/segmentation_from_coco_2017/ /content/drive/MyDrive/segmentation_from_coco_2017/"
      ],
      "metadata": {
        "id": "toe4qrvD0C_H"
      },
      "execution_count": null,
      "outputs": []
    },
    {
      "cell_type": "code",
      "source": [
        "!rsync -rah --info=progress2 /content/segmentation_from_coco_2017/ /content/drive/MyDrive/segmentation_from_coco_2017/"
      ],
      "metadata": {
        "id": "nc7l3vv80qye"
      },
      "execution_count": null,
      "outputs": []
    },
    {
      "cell_type": "code",
      "source": [
        "# !rm -rf /content/segmentation_from_coco_2017/train"
      ],
      "metadata": {
        "id": "yhO1vEoEyE14"
      },
      "execution_count": null,
      "outputs": []
    }
  ],
  "metadata": {
    "colab": {
      "provenance": [],
      "mount_file_id": "1OnDtSrdGuLExGeo1jzCMjYP0JW43oX-S",
      "authorship_tag": "ABX9TyPj7hzjNu1sZQ5ZLDsKSlE8",
      "include_colab_link": true
    },
    "gpuClass": "standard",
    "kernelspec": {
      "display_name": "Python 3",
      "name": "python3"
    },
    "language_info": {
      "name": "python"
    }
  },
  "nbformat": 4,
  "nbformat_minor": 0
}