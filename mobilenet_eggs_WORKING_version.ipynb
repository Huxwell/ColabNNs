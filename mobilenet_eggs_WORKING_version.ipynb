{
  "nbformat": 4,
  "nbformat_minor": 0,
  "metadata": {
    "colab": {
      "provenance": [],
      "gpuType": "T4",
      "authorship_tag": "ABX9TyOBguGCv59GOMgh6DOwJEJD",
      "include_colab_link": true
    },
    "kernelspec": {
      "name": "python3",
      "display_name": "Python 3"
    },
    "language_info": {
      "name": "python"
    },
    "accelerator": "GPU"
  },
  "cells": [
    {
      "cell_type": "markdown",
      "metadata": {
        "id": "view-in-github",
        "colab_type": "text"
      },
      "source": [
        "<a href=\"https://colab.research.google.com/github/Huxwell/ColabNNs/blob/main/mobilenet_eggs_WORKING_version.ipynb\" target=\"_parent\"><img src=\"https://colab.research.google.com/assets/colab-badge.svg\" alt=\"Open In Colab\"/></a>"
      ]
    },
    {
      "cell_type": "code",
      "execution_count": null,
      "metadata": {
        "id": "djZaMstOHg61"
      },
      "outputs": [],
      "source": [
        "import os\n",
        "from zipfile import ZipFile\n",
        "from google.colab import drive\n",
        "\n",
        "drive.mount('/content/drive')"
      ]
    },
    {
      "cell_type": "code",
      "source": [
        "zip_path = '/content/drive/MyDrive/OVO-TECH/eggs_pascal_wa0000-19_no_08_classify_from_bbs_augmented.zip'\n",
        "extract_path = '/content/dataset_train'\n",
        "\n",
        "# Extract the ZIP file\n",
        "with ZipFile(zip_path, 'r') as zip_ref:\n",
        "    zip_ref.extractall(extract_path)\n",
        "\n",
        "\n",
        "zip_path = '/content/drive/MyDrive/OVO-TECH/eggs_pascal_wa0008_UPDATED_classify_from_bbs.zip'\n",
        "extract_path = '/content/dataset_test'\n",
        "\n",
        "# Extract the ZIP file\n",
        "with ZipFile(zip_path, 'r') as zip_ref:\n",
        "    zip_ref.extractall(extract_path)\n"
      ],
      "metadata": {
        "id": "TJgt0FgyIYkE"
      },
      "execution_count": null,
      "outputs": []
    },
    {
      "cell_type": "code",
      "source": [
        "import torch\n",
        "import torchvision\n",
        "from torchvision import transforms\n",
        "from torch.utils.data import DataLoader\n",
        "\n",
        "# Transformations for the train\n",
        "transform_train = transforms.Compose([transforms.Resize(224),\n",
        "                                      transforms.RandomHorizontalFlip(),\n",
        "                                      transforms.ToTensor(),\n",
        "                                      transforms.Normalize(mean=[0.485, 0.456, 0.406], std=[0.229, 0.224, 0.225])])\n",
        "\n",
        "# Transformations for the test\n",
        "transform_test = transforms.Compose([transforms.Resize(224),\n",
        "                                     transforms.ToTensor(),\n",
        "                                     transforms.Normalize(mean=[0.485, 0.456, 0.406], std=[0.229, 0.224, 0.225])])\n",
        "\n",
        "# Load the dataset from the folders\n",
        "dataset_train = torchvision.datasets.ImageFolder('/content/dataset_train/eggs_pascal_wa0000-19_no_08_classify_from_bbs_augmented', transform=transform_train)\n",
        "dataset_test = torchvision.datasets.ImageFolder('/content/dataset_test/eggs_pascal_wa0008_UPDATED_classify_from_bbs', transform=transform_test)\n",
        "\n",
        "# Create dataloaders - they will provide us with batches, which is necessary when training the network\n",
        "dataloader_train = DataLoader(dataset_train, batch_size=32, shuffle=True)\n",
        "dataloader_test = DataLoader(dataset_test, batch_size=32, shuffle=True)\n"
      ],
      "metadata": {
        "id": "oGmBhqiYIq0l"
      },
      "execution_count": null,
      "outputs": []
    },
    {
      "cell_type": "code",
      "source": [
        "import torch.optim as optim\n",
        "import torchvision.models as models\n",
        "\n",
        "# Load the pretrained model\n",
        "model = models.mobilenet_v2(pretrained=True)\n",
        "\n",
        "# Freeze all layers\n",
        "for param in model.parameters():\n",
        "    param.requires_grad = False\n",
        "\n",
        "# Change the last layer to match the number of classes in your dataset\n",
        "# You have 3 classes: a_yolk, background, b_yolk\n",
        "num_classes = 3\n",
        "model.classifier[1] = torch.nn.Linear(model.last_channel, num_classes)\n",
        "\n",
        "# Loss function\n",
        "criterion = torch.nn.CrossEntropyLoss()\n",
        "\n",
        "# Optimizer\n",
        "optimizer = optim.SGD(model.parameters(), lr=0.001, momentum=0.9)\n"
      ],
      "metadata": {
        "id": "BLMOaacaI0R5"
      },
      "execution_count": null,
      "outputs": []
    },
    {
      "cell_type": "code",
      "source": [
        "import torch\n",
        "from tqdm import tqdm\n",
        "\n",
        "device = torch.device(\"cuda:0\" if torch.cuda.is_available() else \"cpu\")\n",
        "\n",
        "# Move the model to the GPU if available\n",
        "model = model.to(device)\n",
        "\n",
        "# Training function\n",
        "def train_model(model, criterion, optimizer, num_epochs=3):\n",
        "    for epoch in range(num_epochs):\n",
        "        print('Epoch {}/{}'.format(epoch, num_epochs - 1))\n",
        "        print('-' * 10)\n",
        "\n",
        "        # Training\n",
        "        model.train()  # Set model to training mode\n",
        "        running_loss = 0.0\n",
        "        running_corrects = 0\n",
        "\n",
        "        # Create a progress bar for added visibility\n",
        "        progress_bar = tqdm(enumerate(dataloader_train), total=len(dataloader_train))\n",
        "        for i, (inputs, labels) in progress_bar:\n",
        "            # Move input and label tensors to the default device\n",
        "            inputs, labels = inputs.to(device), labels.to(device)\n",
        "\n",
        "            # zero the parameter gradients\n",
        "            optimizer.zero_grad()\n",
        "\n",
        "            # forward\n",
        "            outputs = model(inputs)\n",
        "            _, preds = torch.max(outputs, 1)\n",
        "            loss = criterion(outputs, labels)\n",
        "\n",
        "            # backward + optimize\n",
        "            loss.backward()\n",
        "            optimizer.step()\n",
        "\n",
        "            # statistics\n",
        "            running_loss += loss.item() * inputs.size(0)\n",
        "            running_corrects += torch.sum(preds == labels.data)\n",
        "\n",
        "            if i % 10 == 0 and i > 0:  # print every 10 mini-batches\n",
        "                batch_loss = running_loss / ((i + 1) * inputs.size(0))\n",
        "                batch_acc = running_corrects.double() / ((i + 1) * inputs.size(0))\n",
        "                progress_bar.set_description(f'Loss: {batch_loss:.4f}, Acc: {batch_acc:.4f}')\n",
        "\n",
        "        epoch_loss = running_loss / len(dataset_train)\n",
        "        epoch_acc = running_corrects.double() / len(dataset_train)\n",
        "        print('Train Loss: {:.4f} Acc: {:.4f}'.format(epoch_loss, epoch_acc))\n",
        "\n",
        "\n",
        "        # Validation\n",
        "        model.eval()  # Set model to evaluate mode\n",
        "        running_loss = 0.0\n",
        "        running_corrects = 0\n",
        "        with torch.no_grad():\n",
        "            for inputs, labels in dataloader_test:\n",
        "                inputs, labels = inputs.to(device), labels.to(device)\n",
        "                outputs = model(inputs)\n",
        "                _, preds = torch.max(outputs, 1)\n",
        "                running_loss += criterion(outputs, labels).item() * inputs.size(0)\n",
        "                running_corrects += torch.sum(preds == labels.data)\n",
        "\n",
        "        epoch_loss = running_loss / len(dataset_test)\n",
        "        epoch_acc = running_corrects.double() / len(dataset_test)\n",
        "        print('Val Loss: {:.4f} Acc: {:.4f}'.format(epoch_loss, epoch_acc))\n",
        "\n",
        "    print('Finished Training')\n",
        "\n",
        "# Call the training function\n",
        "train_model(model, criterion, optimizer, num_epochs=2)\n"
      ],
      "metadata": {
        "id": "cH2UE7c2KRIQ"
      },
      "execution_count": null,
      "outputs": []
    },
    {
      "cell_type": "code",
      "source": [
        "from sklearn.metrics import precision_score, recall_score, f1_score, classification_report\n",
        "from torchvision.utils import make_grid\n",
        "import matplotlib.pyplot as plt\n",
        "\n",
        "def evaluate_model(model, dataloader):\n",
        "    model.eval()  # Set the model to evaluate mode\n",
        "    true_labels = []\n",
        "    pred_labels = []\n",
        "    images = []\n",
        "\n",
        "    with torch.no_grad():\n",
        "        for inputs, labels in dataloader:\n",
        "            inputs, labels = inputs.to(device), labels.to(device)\n",
        "            outputs = model(inputs)\n",
        "            _, preds = torch.max(outputs, 1)\n",
        "\n",
        "            # Save the images\n",
        "            images.extend(inputs.cpu().numpy())\n",
        "\n",
        "            true_labels += labels.tolist()\n",
        "            pred_labels += preds.tolist()\n",
        "\n",
        "    print('Classification Report:')\n",
        "    print(classification_report(true_labels, pred_labels, labels=[0, 1, 2], target_names=['a_yolk', 'background', 'b_yolk']))\n",
        "\n",
        "    return images, true_labels, pred_labels\n",
        "\n",
        "# Call the evaluation function\n",
        "images, true_labels, pred_labels = evaluate_model(model, dataloader_test)\n",
        "\n"
      ],
      "metadata": {
        "id": "M6maiXs1MfCN"
      },
      "execution_count": null,
      "outputs": []
    },
    {
      "cell_type": "code",
      "source": [
        "assert 1==0"
      ],
      "metadata": {
        "id": "OiRfMvjJUJCp"
      },
      "execution_count": null,
      "outputs": []
    },
    {
      "cell_type": "code",
      "source": [
        "import torchvision.transforms.functional as F\n",
        "import numpy as np\n",
        "\n",
        "def imshow(inp, title=None):\n",
        "    \"\"\"Imshow for Tensor.\"\"\"\n",
        "    inp = inp.transpose((1, 2, 0))\n",
        "    mean = np.array([0.485, 0.456, 0.406])\n",
        "    std = np.array([0.229, 0.224, 0.225])\n",
        "    inp = std * inp + mean\n",
        "    inp = np.clip(inp, 0, 1)\n",
        "    plt.imshow(inp)\n",
        "    if title is not None:\n",
        "        plt.title(title)\n",
        "    plt.pause(0.001)  # pause a bit so that plots are updated\n",
        "\n",
        "from collections import defaultdict\n",
        "\n",
        "def show_images(images, true_labels, pred_labels, class_names):\n",
        "    correct = np.where(np.array(true_labels) == np.array(pred_labels))[0]\n",
        "    incorrect = np.where(np.array(true_labels) != np.array(pred_labels))[0]\n",
        "\n",
        "    correct_counts = defaultdict(int)\n",
        "    incorrect_counts = defaultdict(int)\n",
        "\n",
        "    correct_imgs = []\n",
        "    incorrect_imgs = []\n",
        "\n",
        "    for idx in correct:\n",
        "        if correct_counts[true_labels[idx]] < 4:\n",
        "            correct_imgs.append((images[idx], true_labels[idx], pred_labels[idx]))\n",
        "            correct_counts[true_labels[idx]] += 1\n",
        "\n",
        "    for idx in incorrect:\n",
        "        if incorrect_counts[true_labels[idx]] < 4:\n",
        "            incorrect_imgs.append((images[idx], true_labels[idx], pred_labels[idx]))\n",
        "            incorrect_counts[true_labels[idx]] += 1\n",
        "\n",
        "    print(f\"Found {len(correct_imgs)} correctly classified images\")\n",
        "    print(f\"Found {len(incorrect_imgs)} incorrectly classified images\")\n",
        "\n",
        "    # Show the correctly classified images\n",
        "    print(\"Showing Correctly Classified Images\")\n",
        "    fig = plt.figure(figsize=(20, 10))\n",
        "    for i in range(len(correct_imgs)):\n",
        "        ax = plt.subplot(1, len(correct_imgs), i + 1)\n",
        "        imshow(correct_imgs[i][0], title=f\"Predicted: {class_names[correct_imgs[i][2]]}, Actual: {class_names[correct_imgs[i][1]]}\")\n",
        "\n",
        "    # Show the incorrectly classified images\n",
        "    print(\"Showing Incorrectly Classified Images\")\n",
        "    fig = plt.figure(figsize=(20, 10))\n",
        "    for i in range(len(incorrect_imgs)):\n",
        "        ax = plt.subplot(1, len(incorrect_imgs), i + 1)\n",
        "        imshow(incorrect_imgs[i][0], title=f\"Predicted: {class_names[incorrect_imgs[i][2]]}, Actual: {class_names[incorrect_imgs[i][1]]}\")\n",
        "class_names = ['a_yolk', 'background', 'b_yolk']\n",
        "show_images(images, true_labels, pred_labels, class_names)\n",
        "\n"
      ],
      "metadata": {
        "id": "NqxaSfuaMu6B"
      },
      "execution_count": null,
      "outputs": []
    }
  ]
}